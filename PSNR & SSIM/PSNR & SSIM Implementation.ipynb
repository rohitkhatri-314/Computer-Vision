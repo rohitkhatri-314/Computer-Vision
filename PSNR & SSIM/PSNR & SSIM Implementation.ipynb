{
 "cells": [
  {
   "cell_type": "code",
   "execution_count": 1,
   "id": "1502282a",
   "metadata": {},
   "outputs": [],
   "source": [
    "import cv2 as cv\n",
    "import numpy as np\n",
    "import math\n",
    "import matplotlib.pyplot as plt\n"
   ]
  },
  {
   "cell_type": "code",
   "execution_count": 2,
   "id": "aa8ab698",
   "metadata": {},
   "outputs": [],
   "source": [
    "org=cv.imread(\"org.jpg\",0)\n",
    "# cv.imshow('image',org)\n",
    "# cv.waitKey(0)\n",
    "# cv.destroyAllWindows()\n",
    "distorted=cv.imread(\"distored.jpg\",0)"
   ]
  },
  {
   "cell_type": "code",
   "execution_count": 3,
   "id": "7647d474",
   "metadata": {},
   "outputs": [],
   "source": [
    "def psnr(img1, img2):\n",
    "    img1 = img1.astype(np.int16)\n",
    "    img2 = img2.astype(np.int16)\n",
    "    mse = np.mean(np.square(img1 - img2))\n",
    "    \n",
    "    if mse==0:\n",
    "        return np.Inf\n",
    "    return 10*math.log10(255*255/mse)"
   ]
  },
  {
   "cell_type": "code",
   "execution_count": 4,
   "id": "1ad84e3c",
   "metadata": {},
   "outputs": [
    {
     "name": "stdout",
     "output_type": "stream",
     "text": [
      "29.851491540448585\n",
      "29.851491540448585\n"
     ]
    }
   ],
   "source": [
    "psnr_val=psnr(org,distorted)\n",
    "psnr_cv=cv.PSNR(org,distorted)\n",
    "print(psnr_cv)\n",
    "print(psnr_val)"
   ]
  },
  {
   "cell_type": "code",
   "execution_count": 5,
   "id": "1b6d5682",
   "metadata": {},
   "outputs": [
    {
     "name": "stdout",
     "output_type": "stream",
     "text": [
      "SSIM: 0.8329684505638443\n"
     ]
    }
   ],
   "source": [
    "\n",
    "def ssim(img1, img2):\n",
    "    img1 = img1.astype(np.float64)\n",
    "    img2 = img2.astype(np.float64)\n",
    "    \n",
    "    C1 = (0.01 * 255) ** 2\n",
    "    C2 = (0.03 * 255) ** 2\n",
    "\n",
    "    kernel = cv.getGaussianKernel(11, 1.5)\n",
    "    window = kernel @ kernel.T\n",
    "\n",
    "    mu1 = cv.filter2D(img1, -1, window)\n",
    "    mu2 = cv.filter2D(img2, -1, window)\n",
    "\n",
    "    mu1_sq = mu1 ** 2\n",
    "    mu2_sq = mu2 ** 2\n",
    "    mu1_mu2 = mu1 * mu2\n",
    "\n",
    "    sigma1_sq = cv.filter2D(img1 ** 2, -1, window) - mu1_sq\n",
    "    sigma2_sq = cv.filter2D(img2 ** 2, -1, window) - mu2_sq\n",
    "    sigma12   = cv.filter2D(img1 * img2, -1, window) - mu1_mu2\n",
    "\n",
    "    ssim_map = ((2 * mu1_mu2 + C1) * (2 * sigma12 + C2)) / \\\n",
    "               ((mu1_sq + mu2_sq + C1) * (sigma1_sq + sigma2_sq + C2))\n",
    "\n",
    "    return ssim_map.mean()\n",
    "\n",
    "org = cv.imread(\"org.jpg\", cv.IMREAD_GRAYSCALE)\n",
    "distorted = cv.imread(\"distored.jpg\", cv.IMREAD_GRAYSCALE)\n",
    "\n",
    "score = ssim(org, distorted)\n",
    "print(\"SSIM:\", score)"
   ]
  }
 ],
 "metadata": {
  "kernelspec": {
   "display_name": "Python 3",
   "language": "python",
   "name": "python3"
  },
  "language_info": {
   "codemirror_mode": {
    "name": "ipython",
    "version": 3
   },
   "file_extension": ".py",
   "mimetype": "text/x-python",
   "name": "python",
   "nbconvert_exporter": "python",
   "pygments_lexer": "ipython3",
   "version": "3.10.0"
  }
 },
 "nbformat": 4,
 "nbformat_minor": 5
}
