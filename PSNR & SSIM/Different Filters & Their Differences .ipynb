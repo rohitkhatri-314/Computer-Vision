{
 "cells": [
  {
   "cell_type": "code",
   "execution_count": 1,
   "id": "e102ae09",
   "metadata": {},
   "outputs": [],
   "source": [
    "import cv2 as cv\n",
    "import numpy as np\n",
    "import math"
   ]
  },
  {
   "cell_type": "code",
   "execution_count": 2,
   "id": "eb3e52ce",
   "metadata": {},
   "outputs": [],
   "source": [
    "org=cv.imread(\"org.jpg\",0)\n",
    "# cv.imshow('image',org)\n",
    "# cv.waitKey(0)\n",
    "# cv.destroyAllWindows()\n",
    "distorted=cv.imread(\"distored.jpg\",0)"
   ]
  },
  {
   "cell_type": "markdown",
   "id": "64052f73",
   "metadata": {},
   "source": [
    "Box Filter"
   ]
  },
  {
   "cell_type": "code",
   "execution_count": null,
   "id": "8748fc14",
   "metadata": {},
   "outputs": [
    {
     "data": {
      "text/plain": [
       "True"
      ]
     },
     "execution_count": 3,
     "metadata": {},
     "output_type": "execute_result"
    }
   ],
   "source": [
    "\n",
    "def box_filter_simple(img, ksize):\n",
    "\n",
    "    pad = ksize // 2\n",
    "    h, w = img.shape\n",
    "    output = np.zeros((h, w), dtype=np.float32)  \n",
    "\n",
    " \n",
    "    padded_img = np.pad(img, pad, mode='reflect').astype(np.float32)\n",
    "\n",
    "    \n",
    "    for i in range(h):\n",
    "        for j in range(w):\n",
    "            region = padded_img[i:i+ksize, j:j+ksize]\n",
    "            output[i, j] = np.mean(region) \n",
    "\n",
    "    \n",
    "    return np.clip(output, 0, 255).astype(np.uint8)\n",
    "\n",
    "\n",
    "img = cv.imread(\"org.jpg\", cv.IMREAD_GRAYSCALE)\n",
    "blurred = box_filter_simple(img, 11)  \n",
    "cv.imwrite(\"blurred_simple.jpg\", blurred)"
   ]
  },
  {
   "cell_type": "markdown",
   "id": "8b3dda8a",
   "metadata": {},
   "source": [
    "Gaussian Filter"
   ]
  },
  {
   "cell_type": "code",
   "execution_count": null,
   "id": "6699777e",
   "metadata": {},
   "outputs": [
    {
     "data": {
      "text/plain": [
       "True"
      ]
     },
     "execution_count": 4,
     "metadata": {},
     "output_type": "execute_result"
    }
   ],
   "source": [
    "\n",
    "def gaussian_kernel(ksize, sigma):\n",
    "\n",
    "    ax = np.arange(-ksize // 2 + 1., ksize // 2 + 1.)\n",
    "    xx, yy = np.meshgrid(ax, ax)\n",
    "    kernel = np.exp(-(xx**2 + yy**2) / (2. * sigma**2))\n",
    "    kernel = kernel / np.sum(kernel)\n",
    "    return kernel\n",
    "\n",
    "def gaussian_filter_simple(img, ksize, sigma):\n",
    "\n",
    "    kernel = gaussian_kernel(ksize, sigma)\n",
    "    pad = ksize // 2\n",
    "    h, w = img.shape\n",
    "    output = np.zeros((h, w), dtype=np.float32)\n",
    "\n",
    "    padded_img = np.pad(img, pad, mode='reflect').astype(np.float32)\n",
    "\n",
    "    for i in range(h):\n",
    "        for j in range(w):\n",
    "            region = padded_img[i:i+ksize, j:j+ksize]\n",
    "            output[i, j] = np.sum(region * kernel)\n",
    "\n",
    "    return np.clip(output, 0, 255).astype(np.uint8)\n",
    "\n",
    "img = cv.imread(\"org.jpg\", cv.IMREAD_GRAYSCALE)\n",
    "blurred = gaussian_filter_simple(img, ksize=11, sigma=2)\n",
    "cv.imwrite(\"gaussian_blurred.jpg\", blurred)"
   ]
  },
  {
   "cell_type": "markdown",
   "id": "c1ab40b3",
   "metadata": {},
   "source": [
    "Bilateral Filter"
   ]
  },
  {
   "cell_type": "code",
   "execution_count": null,
   "id": "84af1260",
   "metadata": {},
   "outputs": [
    {
     "data": {
      "text/plain": [
       "True"
      ]
     },
     "execution_count": 5,
     "metadata": {},
     "output_type": "execute_result"
    }
   ],
   "source": [
    "def bilateral_filter_simple(img, ksize, sigma_spatial, sigma_intensity):\n",
    "\n",
    "    pad = ksize // 2\n",
    "    h, w = img.shape\n",
    "    output = np.zeros((h, w), dtype=np.float32)\n",
    "\n",
    "    padded_img = np.pad(img, pad, mode='reflect').astype(np.float32)\n",
    "\n",
    "    ax = np.arange(-pad, pad + 1)\n",
    "    xx, yy = np.meshgrid(ax, ax)\n",
    "    spatial_kernel = np.exp(-(xx**2 + yy**2) / (2 * sigma_spatial**2))\n",
    "\n",
    "    for i in range(h):\n",
    "        for j in range(w):\n",
    "            region = padded_img[i:i+ksize, j:j+ksize]\n",
    "            center_val = padded_img[i+pad, j+pad]\n",
    "\n",
    "            intensity_kernel = np.exp(-((region - center_val) ** 2) / (2 * sigma_intensity**2))\n",
    "\n",
    "            weights = spatial_kernel * intensity_kernel\n",
    "\n",
    "           \n",
    "            output[i, j] = np.sum(region * weights) / np.sum(weights)\n",
    "\n",
    "    return np.clip(output, 0, 255).astype(np.uint8)\n",
    "\n",
    "\n",
    "img = cv.imread(\"org.jpg\", cv.IMREAD_GRAYSCALE)\n",
    "filtered = bilateral_filter_simple(img, ksize=9, sigma_spatial=3, sigma_intensity=50)\n",
    "cv.imwrite(\"bilateral_simple.jpg\", filtered)"
   ]
  },
  {
   "cell_type": "code",
   "execution_count": 6,
   "id": "2f540d46",
   "metadata": {},
   "outputs": [],
   "source": [
    "def psnr(img1, img2):\n",
    "    img1 = img1.astype(np.int16)\n",
    "    img2 = img2.astype(np.int16)\n",
    "    mse = np.mean(np.square(img1 - img2))\n",
    "    \n",
    "    if mse==0:\n",
    "        return np.Inf\n",
    "    return 10*math.log10(255*255/mse)"
   ]
  },
  {
   "cell_type": "code",
   "execution_count": null,
   "id": "acbfd230",
   "metadata": {},
   "outputs": [],
   "source": [
    "def ssim(img1, img2):\n",
    "    img1 = img1.astype(np.float64)\n",
    "    img2 = img2.astype(np.float64)\n",
    "    \n",
    "    C1 = (0.01 * 255) ** 2\n",
    "    C2 = (0.03 * 255) ** 2\n",
    "\n",
    "    kernel = cv.getGaussianKernel(11, 1.5)\n",
    "    window = kernel @ kernel.T\n",
    "\n",
    "    mu1 = cv.filter2D(img1, -1, window)\n",
    "    mu2 = cv.filter2D(img2, -1, window)\n",
    "\n",
    "    mu1_sq = mu1 ** 2\n",
    "    mu2_sq = mu2 ** 2\n",
    "    mu1_mu2 = mu1 * mu2\n",
    "\n",
    "    sigma1_sq = cv.filter2D(img1 ** 2, -1, window) - mu1_sq\n",
    "    sigma2_sq = cv.filter2D(img2 ** 2, -1, window) - mu2_sq\n",
    "    sigma12   = cv.filter2D(img1 * img2, -1, window) - mu1_mu2\n",
    "\n",
    "    ssim_map = ((2 * mu1_mu2 + C1) * (2 * sigma12 + C2)) / \\\n",
    "               ((mu1_sq + mu2_sq + C1) * (sigma1_sq + sigma2_sq + C2))\n",
    "\n",
    "    return ssim_map.mean()\n",
    "\n"
   ]
  },
  {
   "cell_type": "markdown",
   "id": "954cd4cc",
   "metadata": {},
   "source": [
    "Above are the funcitons to calculate psnr and ssim for the same"
   ]
  }
 ],
 "metadata": {
  "kernelspec": {
   "display_name": "Python 3",
   "language": "python",
   "name": "python3"
  },
  "language_info": {
   "codemirror_mode": {
    "name": "ipython",
    "version": 3
   },
   "file_extension": ".py",
   "mimetype": "text/x-python",
   "name": "python",
   "nbconvert_exporter": "python",
   "pygments_lexer": "ipython3",
   "version": "3.10.0"
  }
 },
 "nbformat": 4,
 "nbformat_minor": 5
}
